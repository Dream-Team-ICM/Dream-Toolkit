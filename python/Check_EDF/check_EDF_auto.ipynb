{
 "cells": [
  {
   "cell_type": "markdown",
   "metadata": {},
   "source": [
    "# EDF format checks\n",
    "\n",
    "## There are 3 potential issues related to the conversion of raw signals to EDF:\n",
    "\n",
    "1. Signal clipping:    signal cut once it exceeds an amplitude threshold\n",
    "                        (the min-max range set before EDF conversion was \n",
    "                        too narrow)\n",
    "2. Bit depth:          signal shows a stair-like progression (the min-max\n",
    "                        range set before EDF conversion was too wide)\n",
    "3. Inverted polarity:  signal multiplied by -1 \n",
    "\n",
    "The present script is semi-automated: for each subject and channel,\n",
    "figures are plotted to make a visual inspection. Problematic files are\n",
    "stored in a table.\n",
    "\n",
    "## How to run this notebook\n",
    "\n",
    "Run each block one by one and be attentive to the prompted windows when user\n",
    "imput is required and read the notes in the comments for specific instructions."
   ]
  },
  {
   "cell_type": "code",
   "execution_count": 1,
   "metadata": {},
   "outputs": [],
   "source": [
    "# Import libraries\n",
    "import os\n",
    "import ipywidgets as widgets\n",
    "from tqdm.notebook import tqdm\n",
    "\n",
    "import pandas as pd\n",
    "import numpy as np\n",
    "import mne\n",
    "\n",
    "import seaborn as sns\n",
    "import matplotlib.pyplot as plt"
   ]
  },
  {
   "cell_type": "code",
   "execution_count": 2,
   "metadata": {},
   "outputs": [],
   "source": [
    "# Defined the show_channels_histogram function\n",
    "# This function iterates a list of file/channels and plots their distribution\n",
    "# or a function of it (estimator(channel_data))\n",
    "plt.rcParams[\"figure.figsize\"] = (12,8)\n",
    "\n",
    "def show_channels_histograms(file_channels, subfolder, estimator=lambda x: x):\n",
    "    if len(file_channels) > 0:\n",
    "        total_channels = len(file_channels)\n",
    "        total_files = len(np.unique(file_channels[\"File\"]))\n",
    "        print(f'>>> {total_channels} chanels (from {total_files} EDF files) might have a signal clipping issue.')\n",
    "\n",
    "        print(file_channels)\n",
    "        reply = input('Do you want to visually inspect these channels? Type ''y'' (YES) or ''n'' (NO)')\n",
    "        if reply == 'y':\n",
    "            print(f'>>> Ok, plotting histograms for these {total_channels} channels...')\n",
    "            \n",
    "            for filename, channels in file_channels.groupby('File'):\n",
    "                data = mne.io.read_raw_edf(\n",
    "                    os.path.join(subfolder,filename),\n",
    "                    preload=True,\n",
    "                    verbose=True\n",
    "                )\n",
    "\n",
    "                for i, row in channels.iterrows():\n",
    "                    channel = row['Channel']\n",
    "                    unit = row['Unit']\n",
    "                    \n",
    "                    scaler = 1e+6 if unit == 'µV' else 1e+3\n",
    "                    X = data.get_data([channel])[0]\n",
    "                    X = estimator(X * scaler)\n",
    "\n",
    "                    # Plot figure\n",
    "                    sns.histplot(\n",
    "                        X,\n",
    "                        stat='percent',\n",
    "                        bins=500,\n",
    "                        kde=True\n",
    "                    )\n",
    "\n",
    "                    max_x = X.max() + abs(X.max())*0.05\n",
    "                    min_x = X.min() - abs(X.min())*0.05\n",
    "                    plt.xlim(min_x,max_x)\n",
    "                    plt.title(f'{filename} ({channel}) Amplitude distribution')\n",
    "                    plt.ylabel('Data points distribution (%)')\n",
    "                    plt.xlabel(f'Amplitude ({unit})')\n",
    "                    plt.show()\n",
    "    else:\n",
    "        print('>>> No signal clipping issue was detected.')"
   ]
  },
  {
   "cell_type": "code",
   "execution_count": 3,
   "metadata": {},
   "outputs": [
    {
     "name": "stdin",
     "output_type": "stream",
     "text": [
      ">>> input the folder path containing the EDF files /Users/thandrillon/Data/Apomorphee/\n"
     ]
    },
    {
     "name": "stdout",
     "output_type": "stream",
     "text": [
      ">>> 1 EDF files found\n"
     ]
    }
   ],
   "source": [
    "# Path to EDF files: select folder containing the EDF files\n",
    "subfolder = input('>>> input the folder path containing the EDF files')\n",
    "\n",
    "# Path to EDF files: select folder containing the EDF files\n",
    "filelist = [\n",
    "    f for f in os.listdir(subfolder)\n",
    "    if os.path.isfile(os.path.join(subfolder, f))\n",
    "    and f[-4:] == '.edf'\n",
    "]\n",
    "\n",
    "print(f'>>> {len(filelist)} EDF files found')"
   ]
  },
  {
   "cell_type": "code",
   "execution_count": 4,
   "metadata": {},
   "outputs": [
    {
     "data": {
      "application/vnd.jupyter.widget-view+json": {
       "model_id": "4b353ed4422242faa4ac11475721c728",
       "version_major": 2,
       "version_minor": 0
      },
      "text/plain": [
       "SelectMultiple(description='Select the EDF file to check', options=('17_N1.edf',), value=())"
      ]
     },
     "execution_count": 4,
     "metadata": {},
     "output_type": "execute_result"
    }
   ],
   "source": [
    "# Select the EDF file to check.\n",
    "# NOTE: Selection is automatically set each time you select one or more items from\n",
    "# the shown menu. Once you select the files you want to use, continue by just \n",
    "# running the following blocks. At any time you can comeback to select new items\n",
    "# and re run the following blocks for that new selection.\n",
    "w = widgets.SelectMultiple(\n",
    "    options=filelist,\n",
    "    description='Select the EDF file to check',\n",
    "    disabled=False\n",
    ")\n",
    "\n",
    "w"
   ]
  },
  {
   "cell_type": "code",
   "execution_count": 5,
   "metadata": {},
   "outputs": [
    {
     "name": "stdout",
     "output_type": "stream",
     "text": [
      ">>> >>> Importing data from Subject 17_N1...\n",
      "Extracting EDF parameters from /Users/thandrillon/Data/Apomorphee/17_N1.edf...\n",
      "EDF file detected\n",
      "Setting channel info structure...\n",
      "Creating raw.info structure...\n",
      "Reading 0 ... 13295103  =      0.000 ... 25966.998 secs...\n"
     ]
    },
    {
     "name": "stderr",
     "output_type": "stream",
     "text": [
      "/var/folders/p6/8rbw2gb52k5gfrdjhs3hh1q40000gn/T/ipykernel_7815/3405766220.py:8: RuntimeWarning: Channel names are not unique, found duplicates for: {'FC'}. Applying running numbers for duplicates.\n",
      "  data = mne.io.read_raw_edf(file_path, preload=True, verbose=True)\n"
     ]
    },
    {
     "data": {
      "application/vnd.jupyter.widget-view+json": {
       "model_id": "eab5b02031f84053adc0be980e193dc7",
       "version_major": 2,
       "version_minor": 0
      },
      "text/plain": [
       "  0%|          | 0/27 [00:00<?, ?it/s]"
      ]
     },
     "metadata": {},
     "output_type": "display_data"
    }
   ],
   "source": [
    "# Loop across selected files\n",
    "dfs = []\n",
    "for subID in w.value:\n",
    "    \n",
    "    # Import the data\n",
    "    print(f'>>> >>> Importing data from Subject {subID[:-4]}...')\n",
    "    file_path = os.path.join(subfolder, subID)\n",
    "    data = mne.io.read_raw_edf(file_path, preload=True, verbose=True)\n",
    "    all_ch_names = data.info['ch_names']\n",
    "        \n",
    "    ## Check for signal clipping and bit depth issue\n",
    "       \n",
    "    subject_summary_rows = []\n",
    "    for ch_name in tqdm(all_ch_names):\n",
    "        \n",
    "        unit = data._orig_units[ch_name]\n",
    "\n",
    "        scaler = 1e+6 if unit == 'µV' else 1e+3\n",
    "        Data = data.get_data([ch_name])[0] * scaler\n",
    "        \n",
    "        delta_ampl = np.abs(np.diff(Data))\n",
    "        delta_ampl = delta_ampl[delta_ampl != 0]\n",
    "\n",
    "        subject_summary_rows.append([\n",
    "            subID,\n",
    "            ch_name,\n",
    "            data._orig_units[ch_name],\n",
    "            min(Data),\n",
    "            max(Data),\n",
    "            min(delta_ampl)\n",
    "        ])\n",
    "\n",
    "    dfs.append(pd.DataFrame(\n",
    "        subject_summary_rows,\n",
    "        columns=['File', 'Channel', 'Unit', 'Min', 'Max', 'BinGap']\n",
    "    ))\n",
    "\n",
    "summary_table = pd.concat(dfs)"
   ]
  },
  {
   "cell_type": "code",
   "execution_count": null,
   "metadata": {},
   "outputs": [],
   "source": [
    "## Store problematic files and inspect them \n",
    "uVchan = summary_table['Unit'] == 'µV'\n",
    "outOfuVRange = (summary_table['Min'] > -500) | (summary_table['Max'] < 500)\n",
    "cliping_uVchan = uVchan & outOfuVRange\n",
    "\n",
    "mVchan = summary_table['Unit'] == 'mV'\n",
    "outOfmVRange = (summary_table['Min'] > -0.5) | (summary_table['Max'] < 0.5)\n",
    "cliping_mVchan = mVchan & outOfmVRange\n",
    "\n",
    "signal_clipping_files = summary_table[cliping_uVchan | cliping_mVchan]\n",
    "show_channels_histograms(signal_clipping_files, subfolder)"
   ]
  },
  {
   "cell_type": "code",
   "execution_count": null,
   "metadata": {},
   "outputs": [],
   "source": [
    "uVchan = summary_table['Unit'] == 'µV'\n",
    "outOfuVRange = (summary_table['BinGap'] > 0.1)\n",
    "bit_depth_uVchan = uVchan & outOfuVRange\n",
    "\n",
    "mVchan = summary_table['Unit'] == 'mV'\n",
    "outOfmVRange = summary_table['BinGap'] > 0.001\n",
    "bit_depth_mVchan = mVchan & outOfmVRange\n",
    "\n",
    "bit_depth_files = summary_table[bit_depth_uVchan | bit_depth_mVchan]\n",
    "show_channels_histograms(\n",
    "    bit_depth_files,\n",
    "    subfolder,\n",
    "    lambda x: np.abs(np.diff(x))\n",
    ")"
   ]
  },
  {
   "cell_type": "code",
   "execution_count": null,
   "metadata": {},
   "outputs": [],
   "source": []
  }
 ],
 "metadata": {
  "interpreter": {
   "hash": "9e7c36ea54e8ca39916f6197c70eb8f23b9a9618ecc2abe2d9d640073d0ff143"
  },
  "kernelspec": {
   "display_name": "Python 3 (ipykernel)",
   "language": "python",
   "name": "python3"
  },
  "language_info": {
   "codemirror_mode": {
    "name": "ipython",
    "version": 3
   },
   "file_extension": ".py",
   "mimetype": "text/x-python",
   "name": "python",
   "nbconvert_exporter": "python",
   "pygments_lexer": "ipython3",
   "version": "3.12.10"
  }
 },
 "nbformat": 4,
 "nbformat_minor": 4
}
