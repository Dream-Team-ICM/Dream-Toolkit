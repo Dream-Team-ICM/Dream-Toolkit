{
 "cells": [
  {
   "cell_type": "markdown",
   "metadata": {},
   "source": [
    "# EDF format checks\n",
    "\n",
    "## There are 3 potential issues related to the conversion of raw signals to EDF:\n",
    "\n",
    "1. Signal clipping:    signal cut once it exceeds an amplitude threshold\n",
    "                        (the min-max range set before EDF conversion was \n",
    "                        too narrow)\n",
    "2. Bit depth:          signal shows a stair-like progression (the min-max\n",
    "                        range set before EDF conversion was too wide)\n",
    "3. Inverted polarity:  signal multiplied by -1 \n",
    "\n",
    "The present script is semi-automated: for each subject and channel,\n",
    "figures are plotted to make a visual inspection. Problematic files are\n",
    "stored in a table.\n",
    "\n",
    "## How to run this notebook\n",
    "\n",
    "Run each block one by one and be attentive to the prompted windows when user\n",
    "imput is required and read the notes in the comments for specific instructions."
   ]
  },
  {
   "cell_type": "code",
   "execution_count": 1,
   "metadata": {},
   "outputs": [
    {
     "name": "stderr",
     "output_type": "stream",
     "text": [
      "<frozen importlib._bootstrap>:228: RuntimeWarning: scipy._lib.messagestream.MessageStream size changed, may indicate binary incompatibility. Expected 56 from C header, got 64 from PyObject\n"
     ]
    }
   ],
   "source": [
    "# Import libraries\n",
    "import os\n",
    "import ipywidgets as widgets\n",
    "from tqdm.notebook import tqdm\n",
    "\n",
    "import pandas as pd\n",
    "import numpy as np\n",
    "import mne\n",
    "\n",
    "import seaborn as sns\n",
    "import matplotlib.pyplot as plt"
   ]
  },
  {
   "cell_type": "code",
   "execution_count": 2,
   "metadata": {},
   "outputs": [],
   "source": [
    "# Defined the show_channels_histogram function\n",
    "# This function iterates a list of file/channels and plots their distribution\n",
    "# or a function of it (estimator(channel_data))\n",
    "plt.rcParams[\"figure.figsize\"] = (12,8)\n",
    "\n",
    "def show_channels_histograms(file_channels, subfolder, estimator=lambda x: x):\n",
    "    if len(file_channels) > 0:\n",
    "        total_channels = len(file_channels)\n",
    "        total_files = len(np.unique(file_channels[\"File\"]))\n",
    "        print(f'>>> {total_channels} chanels (from {total_files} EDF files) might have a signal clipping issue.')\n",
    "\n",
    "        print(file_channels)\n",
    "        reply = input('Do you want to visually inspect these channels? Type ''y'' (YES) or ''n'' (NO)')\n",
    "        if reply == 'y':\n",
    "            print(f'>>> Ok, plotting histograms for these {total_channels} channels...')\n",
    "            \n",
    "            for filename, channels in file_channels.groupby('File'):\n",
    "                data = mne.io.read_raw_edf(\n",
    "                    os.path.join(subfolder,filename),\n",
    "                    preload=True,\n",
    "                    verbose=True\n",
    "                )\n",
    "\n",
    "                for i, row in channels.iterrows():\n",
    "                    channel = row['Channel']\n",
    "                    unit = row['Unit']\n",
    "                    \n",
    "                    scaler = 1e+6 if unit == 'µV' else 1e+3\n",
    "                    X = data.get_data([channel])[0]\n",
    "                    X = estimator(X * scaler)\n",
    "\n",
    "                    # Plot figure\n",
    "                    sns.histplot(\n",
    "                        X,\n",
    "                        stat='percent',\n",
    "                        bins=500,\n",
    "                        kde=True\n",
    "                    )\n",
    "\n",
    "                    max_x = X.max() + abs(X.max())*0.05\n",
    "                    min_x = X.min() - abs(X.min())*0.05\n",
    "                    plt.xlim(min_x,max_x)\n",
    "                    plt.title(f'{filename} ({channel}) Amplitude distribution')\n",
    "                    plt.ylabel('Data points distribution (%)')\n",
    "                    plt.xlabel(f'Amplitude ({unit})')\n",
    "                    plt.show()\n",
    "    else:\n",
    "        print('>>> No signal clipping issue was detected.')"
   ]
  },
  {
   "cell_type": "code",
   "execution_count": 3,
   "metadata": {},
   "outputs": [
    {
     "name": "stdout",
     "output_type": "stream",
     "text": [
      ">>> input the folder path containing the EDF files/Users/thandrillon/Downloads/sieste_Ines\n",
      ">>> 1 EDF files found\n"
     ]
    }
   ],
   "source": [
    "# Path to EDF files: select folder containing the EDF files\n",
    "subfolder = input('>>> input the folder path containing the EDF files')\n",
    "\n",
    "# Path to EDF files: select folder containing the EDF files\n",
    "filelist = [\n",
    "    f for f in os.listdir(subfolder)\n",
    "    if os.path.isfile(os.path.join(subfolder, f))\n",
    "    and f[-4:] == '.edf'\n",
    "]\n",
    "\n",
    "print(f'>>> {len(filelist)} EDF files found')"
   ]
  },
  {
   "cell_type": "code",
   "execution_count": 4,
   "metadata": {},
   "outputs": [
    {
     "data": {
      "application/vnd.jupyter.widget-view+json": {
       "model_id": "cd28b11a0e8f420f865fec178d774dcc",
       "version_major": 2,
       "version_minor": 0
      },
      "text/plain": [
       "SelectMultiple(description='Select the EDF file to check', options=('sieste.edf',), value=())"
      ]
     },
     "metadata": {},
     "output_type": "display_data"
    }
   ],
   "source": [
    "# Select the EDF file to check.\n",
    "# NOTE: Selection is automatically set each time you select one or more items from\n",
    "# the shown menu. Once you select the files you want to use, continue by just \n",
    "# running the following blocks. At any time you can comeback to select new items\n",
    "# and re run the following blocks for that new selection.\n",
    "w = widgets.SelectMultiple(\n",
    "    options=filelist,\n",
    "    description='Select the EDF file to check',\n",
    "    disabled=False\n",
    ")\n",
    "\n",
    "w"
   ]
  },
  {
   "cell_type": "code",
   "execution_count": 7,
   "metadata": {},
   "outputs": [
    {
     "ename": "ValueError",
     "evalue": "No objects to concatenate",
     "output_type": "error",
     "traceback": [
      "\u001b[0;31m---------------------------------------------------------------------------\u001b[0m",
      "\u001b[0;31mValueError\u001b[0m                                Traceback (most recent call last)",
      "Cell \u001b[0;32mIn[7], line 38\u001b[0m\n\u001b[1;32m     24\u001b[0m         subject_summary_rows\u001b[38;5;241m.\u001b[39mappend([\n\u001b[1;32m     25\u001b[0m             subID,\n\u001b[1;32m     26\u001b[0m             ch_name,\n\u001b[0;32m   (...)\u001b[0m\n\u001b[1;32m     30\u001b[0m             \u001b[38;5;28mmin\u001b[39m(delta_ampl)\n\u001b[1;32m     31\u001b[0m         ])\n\u001b[1;32m     33\u001b[0m     dfs\u001b[38;5;241m.\u001b[39mappend(pd\u001b[38;5;241m.\u001b[39mDataFrame(\n\u001b[1;32m     34\u001b[0m         subject_summary_rows,\n\u001b[1;32m     35\u001b[0m         columns\u001b[38;5;241m=\u001b[39m[\u001b[38;5;124m'\u001b[39m\u001b[38;5;124mFile\u001b[39m\u001b[38;5;124m'\u001b[39m, \u001b[38;5;124m'\u001b[39m\u001b[38;5;124mChannel\u001b[39m\u001b[38;5;124m'\u001b[39m, \u001b[38;5;124m'\u001b[39m\u001b[38;5;124mUnit\u001b[39m\u001b[38;5;124m'\u001b[39m, \u001b[38;5;124m'\u001b[39m\u001b[38;5;124mMin\u001b[39m\u001b[38;5;124m'\u001b[39m, \u001b[38;5;124m'\u001b[39m\u001b[38;5;124mMax\u001b[39m\u001b[38;5;124m'\u001b[39m, \u001b[38;5;124m'\u001b[39m\u001b[38;5;124mBinGap\u001b[39m\u001b[38;5;124m'\u001b[39m]\n\u001b[1;32m     36\u001b[0m     ))\n\u001b[0;32m---> 38\u001b[0m summary_table \u001b[38;5;241m=\u001b[39m \u001b[43mpd\u001b[49m\u001b[38;5;241;43m.\u001b[39;49m\u001b[43mconcat\u001b[49m\u001b[43m(\u001b[49m\u001b[43mdfs\u001b[49m\u001b[43m)\u001b[49m\n",
      "File \u001b[0;32m~/opt/anaconda3/envs/mne/lib/python3.9/site-packages/pandas/core/reshape/concat.py:382\u001b[0m, in \u001b[0;36mconcat\u001b[0;34m(objs, axis, join, ignore_index, keys, levels, names, verify_integrity, sort, copy)\u001b[0m\n\u001b[1;32m    379\u001b[0m \u001b[38;5;28;01melif\u001b[39;00m copy \u001b[38;5;129;01mand\u001b[39;00m using_copy_on_write():\n\u001b[1;32m    380\u001b[0m     copy \u001b[38;5;241m=\u001b[39m \u001b[38;5;28;01mFalse\u001b[39;00m\n\u001b[0;32m--> 382\u001b[0m op \u001b[38;5;241m=\u001b[39m \u001b[43m_Concatenator\u001b[49m\u001b[43m(\u001b[49m\n\u001b[1;32m    383\u001b[0m \u001b[43m    \u001b[49m\u001b[43mobjs\u001b[49m\u001b[43m,\u001b[49m\n\u001b[1;32m    384\u001b[0m \u001b[43m    \u001b[49m\u001b[43maxis\u001b[49m\u001b[38;5;241;43m=\u001b[39;49m\u001b[43maxis\u001b[49m\u001b[43m,\u001b[49m\n\u001b[1;32m    385\u001b[0m \u001b[43m    \u001b[49m\u001b[43mignore_index\u001b[49m\u001b[38;5;241;43m=\u001b[39;49m\u001b[43mignore_index\u001b[49m\u001b[43m,\u001b[49m\n\u001b[1;32m    386\u001b[0m \u001b[43m    \u001b[49m\u001b[43mjoin\u001b[49m\u001b[38;5;241;43m=\u001b[39;49m\u001b[43mjoin\u001b[49m\u001b[43m,\u001b[49m\n\u001b[1;32m    387\u001b[0m \u001b[43m    \u001b[49m\u001b[43mkeys\u001b[49m\u001b[38;5;241;43m=\u001b[39;49m\u001b[43mkeys\u001b[49m\u001b[43m,\u001b[49m\n\u001b[1;32m    388\u001b[0m \u001b[43m    \u001b[49m\u001b[43mlevels\u001b[49m\u001b[38;5;241;43m=\u001b[39;49m\u001b[43mlevels\u001b[49m\u001b[43m,\u001b[49m\n\u001b[1;32m    389\u001b[0m \u001b[43m    \u001b[49m\u001b[43mnames\u001b[49m\u001b[38;5;241;43m=\u001b[39;49m\u001b[43mnames\u001b[49m\u001b[43m,\u001b[49m\n\u001b[1;32m    390\u001b[0m \u001b[43m    \u001b[49m\u001b[43mverify_integrity\u001b[49m\u001b[38;5;241;43m=\u001b[39;49m\u001b[43mverify_integrity\u001b[49m\u001b[43m,\u001b[49m\n\u001b[1;32m    391\u001b[0m \u001b[43m    \u001b[49m\u001b[43mcopy\u001b[49m\u001b[38;5;241;43m=\u001b[39;49m\u001b[43mcopy\u001b[49m\u001b[43m,\u001b[49m\n\u001b[1;32m    392\u001b[0m \u001b[43m    \u001b[49m\u001b[43msort\u001b[49m\u001b[38;5;241;43m=\u001b[39;49m\u001b[43msort\u001b[49m\u001b[43m,\u001b[49m\n\u001b[1;32m    393\u001b[0m \u001b[43m\u001b[49m\u001b[43m)\u001b[49m\n\u001b[1;32m    395\u001b[0m \u001b[38;5;28;01mreturn\u001b[39;00m op\u001b[38;5;241m.\u001b[39mget_result()\n",
      "File \u001b[0;32m~/opt/anaconda3/envs/mne/lib/python3.9/site-packages/pandas/core/reshape/concat.py:445\u001b[0m, in \u001b[0;36m_Concatenator.__init__\u001b[0;34m(self, objs, axis, join, keys, levels, names, ignore_index, verify_integrity, copy, sort)\u001b[0m\n\u001b[1;32m    442\u001b[0m \u001b[38;5;28mself\u001b[39m\u001b[38;5;241m.\u001b[39mverify_integrity \u001b[38;5;241m=\u001b[39m verify_integrity\n\u001b[1;32m    443\u001b[0m \u001b[38;5;28mself\u001b[39m\u001b[38;5;241m.\u001b[39mcopy \u001b[38;5;241m=\u001b[39m copy\n\u001b[0;32m--> 445\u001b[0m objs, keys \u001b[38;5;241m=\u001b[39m \u001b[38;5;28;43mself\u001b[39;49m\u001b[38;5;241;43m.\u001b[39;49m\u001b[43m_clean_keys_and_objs\u001b[49m\u001b[43m(\u001b[49m\u001b[43mobjs\u001b[49m\u001b[43m,\u001b[49m\u001b[43m \u001b[49m\u001b[43mkeys\u001b[49m\u001b[43m)\u001b[49m\n\u001b[1;32m    447\u001b[0m \u001b[38;5;66;03m# figure out what our result ndim is going to be\u001b[39;00m\n\u001b[1;32m    448\u001b[0m ndims \u001b[38;5;241m=\u001b[39m \u001b[38;5;28mself\u001b[39m\u001b[38;5;241m.\u001b[39m_get_ndims(objs)\n",
      "File \u001b[0;32m~/opt/anaconda3/envs/mne/lib/python3.9/site-packages/pandas/core/reshape/concat.py:507\u001b[0m, in \u001b[0;36m_Concatenator._clean_keys_and_objs\u001b[0;34m(self, objs, keys)\u001b[0m\n\u001b[1;32m    504\u001b[0m     objs_list \u001b[38;5;241m=\u001b[39m \u001b[38;5;28mlist\u001b[39m(objs)\n\u001b[1;32m    506\u001b[0m \u001b[38;5;28;01mif\u001b[39;00m \u001b[38;5;28mlen\u001b[39m(objs_list) \u001b[38;5;241m==\u001b[39m \u001b[38;5;241m0\u001b[39m:\n\u001b[0;32m--> 507\u001b[0m     \u001b[38;5;28;01mraise\u001b[39;00m \u001b[38;5;167;01mValueError\u001b[39;00m(\u001b[38;5;124m\"\u001b[39m\u001b[38;5;124mNo objects to concatenate\u001b[39m\u001b[38;5;124m\"\u001b[39m)\n\u001b[1;32m    509\u001b[0m \u001b[38;5;28;01mif\u001b[39;00m keys \u001b[38;5;129;01mis\u001b[39;00m \u001b[38;5;28;01mNone\u001b[39;00m:\n\u001b[1;32m    510\u001b[0m     objs_list \u001b[38;5;241m=\u001b[39m \u001b[38;5;28mlist\u001b[39m(com\u001b[38;5;241m.\u001b[39mnot_none(\u001b[38;5;241m*\u001b[39mobjs_list))\n",
      "\u001b[0;31mValueError\u001b[0m: No objects to concatenate"
     ]
    }
   ],
   "source": [
    "# Loop across selected files\n",
    "dfs = []\n",
    "for subID in w.value:\n",
    "    \n",
    "    # Import the data\n",
    "    print(f'>>> >>> Importing data from Subject {subID[:-4]}...')\n",
    "    file_path = os.path.join(subfolder, subID)\n",
    "    data = mne.io.read_raw_edf(file_path, preload=True, verbose=True)\n",
    "    all_ch_names = data.info['ch_names']\n",
    "        \n",
    "    ## Check for signal clipping and bit depth issue\n",
    "       \n",
    "    subject_summary_rows = []\n",
    "    for ch_name in tqdm(all_ch_names):\n",
    "        \n",
    "        unit = data._orig_units[ch_name]\n",
    "\n",
    "        scaler = 1e+6 if unit == 'µV' else 1e+3\n",
    "        Data = data.get_data([ch_name])[0] * scaler\n",
    "        \n",
    "        delta_ampl = np.abs(np.diff(Data))\n",
    "        delta_ampl = delta_ampl[delta_ampl != 0]\n",
    "\n",
    "        subject_summary_rows.append([\n",
    "            subID,\n",
    "            ch_name,\n",
    "            data._orig_units[ch_name],\n",
    "            min(Data),\n",
    "            max(Data),\n",
    "            min(delta_ampl)\n",
    "        ])\n",
    "\n",
    "    dfs.append(pd.DataFrame(\n",
    "        subject_summary_rows,\n",
    "        columns=['File', 'Channel', 'Unit', 'Min', 'Max', 'BinGap']\n",
    "    ))\n",
    "\n",
    "summary_table = pd.concat(dfs)"
   ]
  },
  {
   "cell_type": "code",
   "execution_count": 8,
   "metadata": {},
   "outputs": [
    {
     "ename": "NameError",
     "evalue": "name 'summary_table' is not defined",
     "output_type": "error",
     "traceback": [
      "\u001b[0;31m---------------------------------------------------------------------------\u001b[0m",
      "\u001b[0;31mNameError\u001b[0m                                 Traceback (most recent call last)",
      "Cell \u001b[0;32mIn[8], line 2\u001b[0m\n\u001b[1;32m      1\u001b[0m \u001b[38;5;66;03m## Store problematic files and inspect them \u001b[39;00m\n\u001b[0;32m----> 2\u001b[0m uVchan \u001b[38;5;241m=\u001b[39m \u001b[43msummary_table\u001b[49m[\u001b[38;5;124m'\u001b[39m\u001b[38;5;124mUnit\u001b[39m\u001b[38;5;124m'\u001b[39m] \u001b[38;5;241m==\u001b[39m \u001b[38;5;124m'\u001b[39m\u001b[38;5;124mµV\u001b[39m\u001b[38;5;124m'\u001b[39m\n\u001b[1;32m      3\u001b[0m outOfuVRange \u001b[38;5;241m=\u001b[39m (summary_table[\u001b[38;5;124m'\u001b[39m\u001b[38;5;124mMin\u001b[39m\u001b[38;5;124m'\u001b[39m] \u001b[38;5;241m>\u001b[39m \u001b[38;5;241m-\u001b[39m\u001b[38;5;241m500\u001b[39m) \u001b[38;5;241m|\u001b[39m (summary_table[\u001b[38;5;124m'\u001b[39m\u001b[38;5;124mMax\u001b[39m\u001b[38;5;124m'\u001b[39m] \u001b[38;5;241m<\u001b[39m \u001b[38;5;241m500\u001b[39m)\n\u001b[1;32m      4\u001b[0m cliping_uVchan \u001b[38;5;241m=\u001b[39m uVchan \u001b[38;5;241m&\u001b[39m outOfuVRange\n",
      "\u001b[0;31mNameError\u001b[0m: name 'summary_table' is not defined"
     ]
    }
   ],
   "source": [
    "## Store problematic files and inspect them \n",
    "uVchan = summary_table['Unit'] == 'µV'\n",
    "outOfuVRange = (summary_table['Min'] > -500) | (summary_table['Max'] < 500)\n",
    "cliping_uVchan = uVchan & outOfuVRange\n",
    "\n",
    "mVchan = summary_table['Unit'] == 'mV'\n",
    "outOfmVRange = (summary_table['Min'] > -0.5) | (summary_table['Max'] < 0.5)\n",
    "cliping_mVchan = mVchan & outOfmVRange\n",
    "\n",
    "signal_clipping_files = summary_table[cliping_uVchan | cliping_mVchan]\n",
    "show_channels_histograms(signal_clipping_files, subfolder)"
   ]
  },
  {
   "cell_type": "code",
   "execution_count": 9,
   "metadata": {},
   "outputs": [
    {
     "ename": "NameError",
     "evalue": "name 'summary_table' is not defined",
     "output_type": "error",
     "traceback": [
      "\u001b[0;31m---------------------------------------------------------------------------\u001b[0m",
      "\u001b[0;31mNameError\u001b[0m                                 Traceback (most recent call last)",
      "Cell \u001b[0;32mIn[9], line 1\u001b[0m\n\u001b[0;32m----> 1\u001b[0m uVchan \u001b[38;5;241m=\u001b[39m \u001b[43msummary_table\u001b[49m[\u001b[38;5;124m'\u001b[39m\u001b[38;5;124mUnit\u001b[39m\u001b[38;5;124m'\u001b[39m] \u001b[38;5;241m==\u001b[39m \u001b[38;5;124m'\u001b[39m\u001b[38;5;124mµV\u001b[39m\u001b[38;5;124m'\u001b[39m\n\u001b[1;32m      2\u001b[0m outOfuVRange \u001b[38;5;241m=\u001b[39m (summary_table[\u001b[38;5;124m'\u001b[39m\u001b[38;5;124mBinGap\u001b[39m\u001b[38;5;124m'\u001b[39m] \u001b[38;5;241m>\u001b[39m \u001b[38;5;241m0.1\u001b[39m)\n\u001b[1;32m      3\u001b[0m bit_depth_uVchan \u001b[38;5;241m=\u001b[39m uVchan \u001b[38;5;241m&\u001b[39m outOfuVRange\n",
      "\u001b[0;31mNameError\u001b[0m: name 'summary_table' is not defined"
     ]
    }
   ],
   "source": [
    "uVchan = summary_table['Unit'] == 'µV'\n",
    "outOfuVRange = (summary_table['BinGap'] > 0.1)\n",
    "bit_depth_uVchan = uVchan & outOfuVRange\n",
    "\n",
    "mVchan = summary_table['Unit'] == 'mV'\n",
    "outOfmVRange = summary_table['BinGap'] > 0.001\n",
    "bit_depth_mVchan = mVchan & outOfmVRange\n",
    "\n",
    "bit_depth_files = summary_table[bit_depth_uVchan | bit_depth_mVchan]\n",
    "show_channels_histograms(\n",
    "    bit_depth_files,\n",
    "    subfolder,\n",
    "    lambda x: np.abs(np.diff(x))\n",
    ")"
   ]
  },
  {
   "cell_type": "code",
   "execution_count": null,
   "metadata": {},
   "outputs": [],
   "source": []
  }
 ],
 "metadata": {
  "interpreter": {
   "hash": "9e7c36ea54e8ca39916f6197c70eb8f23b9a9618ecc2abe2d9d640073d0ff143"
  },
  "kernelspec": {
   "display_name": "Python 3 (ipykernel)",
   "language": "python",
   "name": "python3"
  },
  "language_info": {
   "codemirror_mode": {
    "name": "ipython",
    "version": 3
   },
   "file_extension": ".py",
   "mimetype": "text/x-python",
   "name": "python",
   "nbconvert_exporter": "python",
   "pygments_lexer": "ipython3",
   "version": "3.9.18"
  }
 },
 "nbformat": 4,
 "nbformat_minor": 2
}
