{
 "cells": [
  {
   "cell_type": "markdown",
   "metadata": {},
   "source": [
    "# EDF format checks\n",
    "\n",
    "## There are 3 potential issues related to the conversion of raw signals to EDF:\n",
    "\n",
    "1. Signal clipping:    signal cut once it exceeds an amplitude threshold\n",
    "                       (the min-max range set before EDF conversion was \n",
    "                       too narrow)\n",
    "2. Bit depth:          signal shows a stair-like progression (the min-max\n",
    "                       range set before EDF conversion was too wide)\n",
    "3. Inverted polarity:  signal multiplied by -1 \n",
    "\n",
    "The present script is semi-automated: for each subject and channel,\n",
    "figures are plotted to make a visual inspection. Problematic files are\n",
    "stored in a table."
   ]
  },
  {
   "cell_type": "code",
   "execution_count": 13,
   "metadata": {},
   "outputs": [],
   "source": [
    "# Import libraries\n",
    "import os, fnmatch\n",
    "import time\n",
    "import ipywidgets as widgets\n",
    "from IPython.display import display\n",
    "from tqdm.notebook import tqdm\n",
    "\n",
    "import pandas as pd\n",
    "import numpy as np\n",
    "import mne\n",
    "from mne.io.constants import FIFF\n",
    "\n",
    "import seaborn as sns\n",
    "import matplotlib.pyplot as plt"
   ]
  },
  {
   "cell_type": "code",
   "execution_count": 14,
   "metadata": {},
   "outputs": [],
   "source": [
    "def show_channels_histograms(data, ch_name, ax, estimator=lambda x: x):\n",
    "    unit = data._orig_units[ch_name]\n",
    "\n",
    "    scaler = 1e+6 if unit == 'µV' else 1e+3\n",
    "    X = data.get_data([ch_name])[0]\n",
    "    X = estimator(X * scaler)\n",
    "\n",
    "    # Plot figure\n",
    "    sns.histplot(\n",
    "        X,\n",
    "        stat='percent',\n",
    "        bins=50,\n",
    "        kde=True,\n",
    "        ax=ax\n",
    "    )\n",
    "\n",
    "    max_x = X.max() + abs(X.max())*0.05\n",
    "    min_x = X.min() + abs(X.min())*0.05\n",
    "    ax.set_xlim(min_x,max_x)\n",
    "    ax.set_ylabel('Data points distribution (%)')\n",
    "    ax.set_xlabel(f'Amplitude ({unit})')"
   ]
  },
  {
   "cell_type": "code",
   "execution_count": 15,
   "metadata": {},
   "outputs": [
    {
     "name": "stdout",
     "output_type": "stream",
     "text": [
      ">>> 3 EDF files found\n"
     ]
    }
   ],
   "source": [
    "# Path to EDF files: select folder containing the EDF files\n",
    "subfolder = input('>>> input the folder path containing the EDF files')\n",
    "\n",
    "# Path to EDF files: select folder containing the EDF files\n",
    "filelist = [\n",
    "    (root, filename)\n",
    "    for root, dirs, files in os.walk(subfolder)\n",
    "    for filename in files\n",
    "    if fnmatch.fnmatch(filename, '*.edf')\n",
    "]\n",
    "print(f'>>> {len(filelist)} EDF files found')"
   ]
  },
  {
   "cell_type": "code",
   "execution_count": 18,
   "metadata": {},
   "outputs": [
    {
     "data": {
      "application/vnd.jupyter.widget-view+json": {
       "model_id": "d463e6cd2a6f465390c3c3cd82ef7fa2",
       "version_major": 2,
       "version_minor": 0
      },
      "text/plain": [
       "interactive(children=(Select(description='Select the EDF file to check', options=('02ZB_EEG_clipped.edf', '01H…"
      ]
     },
     "metadata": {},
     "output_type": "display_data"
    },
    {
     "data": {
      "text/plain": [
       "<function __main__.select_channels_and_plot(subID)>"
      ]
     },
     "execution_count": 18,
     "metadata": {},
     "output_type": "execute_result"
    }
   ],
   "source": [
    "def check_channel(data, ch_name):\n",
    "\n",
    "    fig, axes = plt.subplots(1, 2, figsize=(15,10))\n",
    "    axes = axes.flatten()\n",
    "\n",
    "    show_channels_histograms(data, ch_name, axes[0], estimator=lambda x: x)\n",
    "    show_channels_histograms(data, ch_name, axes[1], estimator=lambda x: np.abs(np.diff(x)))\n",
    "    plt.show()\n",
    "\n",
    "\n",
    "def select_channels_and_plot(subID):\n",
    "    subfolder = [root for root, curr_subID in filelist if curr_subID == subID][0]\n",
    "\n",
    "    # Import the data\n",
    "    print(f'>>> >>> Importing data from Subject {subID[:-4]}...')\n",
    "    file_path = os.path.join(subfolder, subID)\n",
    "    data = mne.io.read_raw_edf(\n",
    "        file_path,\n",
    "        preload=True,\n",
    "        verbose=True\n",
    "    )\n",
    "    w_channels = widgets.Select(\n",
    "        options=list(data.info['ch_names']),\n",
    "        description='Select channel to check',\n",
    "        disabled=False\n",
    "    )\n",
    "\n",
    "    def check_data_channel(ch_name):\n",
    "        print(f'>>> >>> Plotting channel {ch_name} from file {subID}')\n",
    "        print('(this can take some seconds)')\n",
    "        check_channel(data, ch_name)\n",
    "\n",
    "    widgets.interact(check_data_channel, data=data, ch_name=w_channels)\n",
    "\n",
    "w_files = widgets.Select(\n",
    "    options=[filename for root, filename in filelist],\n",
    "    description='Select the EDF file to check',\n",
    "    disabled=False\n",
    ")\n",
    "\n",
    "widgets.interact(select_channels_and_plot, subID=w_files)\n"
   ]
  }
 ],
 "metadata": {
  "interpreter": {
   "hash": "9e7c36ea54e8ca39916f6197c70eb8f23b9a9618ecc2abe2d9d640073d0ff143"
  },
  "kernelspec": {
   "display_name": "Python 3.8.8 64-bit ('base': conda)",
   "name": "python3"
  },
  "language_info": {
   "codemirror_mode": {
    "name": "ipython",
    "version": 3
   },
   "file_extension": ".py",
   "mimetype": "text/x-python",
   "name": "python",
   "nbconvert_exporter": "python",
   "pygments_lexer": "ipython3",
   "version": "3.8.8"
  },
  "orig_nbformat": 4
 },
 "nbformat": 4,
 "nbformat_minor": 2
}
